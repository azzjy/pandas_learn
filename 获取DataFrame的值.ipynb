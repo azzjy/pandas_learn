{
 "cells": [
  {
   "cell_type": "code",
   "execution_count": 1,
   "id": "9fbac7f0-7972-444e-8e77-5d7a85665bda",
   "metadata": {},
   "outputs": [],
   "source": [
    "#选择某一行或者某一列\n",
    "#DataFrame对象非常容易获取数据集中指定列的数据。只需要在表df后面的括号中指明要选择的列名即可。\n",
    "#如果是同时选择多列，则传入多个列名即可，多个列名用一个list存放。"
   ]
  },
  {
   "cell_type": "code",
   "execution_count": 2,
   "id": "41d3bc0e-9ad0-49d9-9aac-6a6bd35b8968",
   "metadata": {},
   "outputs": [],
   "source": [
    "import pandas as pd\n",
    "import numpy as np"
   ]
  },
  {
   "cell_type": "code",
   "execution_count": 5,
   "id": "434fc1f0-7be5-48ae-8e30-d1297fcb562d",
   "metadata": {},
   "outputs": [
    {
     "data": {
      "text/html": [
       "<div>\n",
       "<style scoped>\n",
       "    .dataframe tbody tr th:only-of-type {\n",
       "        vertical-align: middle;\n",
       "    }\n",
       "\n",
       "    .dataframe tbody tr th {\n",
       "        vertical-align: top;\n",
       "    }\n",
       "\n",
       "    .dataframe thead th {\n",
       "        text-align: right;\n",
       "    }\n",
       "</style>\n",
       "<table border=\"1\" class=\"dataframe\">\n",
       "  <thead>\n",
       "    <tr style=\"text-align: right;\">\n",
       "      <th></th>\n",
       "      <th>A</th>\n",
       "      <th>B</th>\n",
       "      <th>C</th>\n",
       "      <th>D</th>\n",
       "    </tr>\n",
       "  </thead>\n",
       "  <tbody>\n",
       "    <tr>\n",
       "      <th>a</th>\n",
       "      <td>0</td>\n",
       "      <td>1</td>\n",
       "      <td>2</td>\n",
       "      <td>3</td>\n",
       "    </tr>\n",
       "    <tr>\n",
       "      <th>b</th>\n",
       "      <td>4</td>\n",
       "      <td>5</td>\n",
       "      <td>6</td>\n",
       "      <td>7</td>\n",
       "    </tr>\n",
       "    <tr>\n",
       "      <th>c</th>\n",
       "      <td>8</td>\n",
       "      <td>9</td>\n",
       "      <td>10</td>\n",
       "      <td>11</td>\n",
       "    </tr>\n",
       "  </tbody>\n",
       "</table>\n",
       "</div>"
      ],
      "text/plain": [
       "   A  B   C   D\n",
       "a  0  1   2   3\n",
       "b  4  5   6   7\n",
       "c  8  9  10  11"
      ]
     },
     "execution_count": 5,
     "metadata": {},
     "output_type": "execute_result"
    }
   ],
   "source": [
    "data = pd.DataFrame(np.arange(12).reshape(3,4),index=list('abc'),columns=list('ABCD'))\n",
    "data"
   ]
  },
  {
   "cell_type": "code",
   "execution_count": 12,
   "id": "16262b0a-49bc-4fbb-bee3-a66b2e90c6ba",
   "metadata": {},
   "outputs": [
    {
     "name": "stdout",
     "output_type": "stream",
     "text": [
      "获取B列\n"
     ]
    },
    {
     "data": {
      "text/plain": [
       "(a    1\n",
       " b    5\n",
       " c    9\n",
       " Name: B, dtype: int64,\n",
       " pandas.core.series.Series)"
      ]
     },
     "execution_count": 12,
     "metadata": {},
     "output_type": "execute_result"
    }
   ],
   "source": [
    "print('获取B列')\n",
    "data['B'],type(data['B'])"
   ]
  },
  {
   "cell_type": "code",
   "execution_count": 13,
   "id": "779c4d99-9427-4560-8223-a5ad7089ef7d",
   "metadata": {},
   "outputs": [
    {
     "name": "stdout",
     "output_type": "stream",
     "text": [
      "获取A,C两列\n"
     ]
    },
    {
     "data": {
      "text/plain": [
       "(   A   C\n",
       " a  0   2\n",
       " b  4   6\n",
       " c  8  10,\n",
       " pandas.core.frame.DataFrame)"
      ]
     },
     "execution_count": 13,
     "metadata": {},
     "output_type": "execute_result"
    }
   ],
   "source": [
    "print('获取A,C两列')\n",
    "data[['A','C']],type(data[['A','C']])"
   ]
  },
  {
   "cell_type": "code",
   "execution_count": 14,
   "id": "9f992f9d-8d0f-4886-a3e4-7677982d760b",
   "metadata": {},
   "outputs": [],
   "source": [
    "#获取列还可以传入具体列的位置，通过传入位置来获取数据时需要用到的iloc方法"
   ]
  },
  {
   "cell_type": "code",
   "execution_count": 17,
   "id": "5fbdfc9c-7a0d-4617-b80f-1fbbb5d40d70",
   "metadata": {},
   "outputs": [
    {
     "name": "stdout",
     "output_type": "stream",
     "text": [
      "获取第一列:\n",
      "a    0\n",
      "b    4\n",
      "c    8\n",
      "Name: A, dtype: int64\n"
     ]
    }
   ],
   "source": [
    "print('获取第一列:')\n",
    "print(data.iloc[:,0])"
   ]
  },
  {
   "cell_type": "code",
   "execution_count": 18,
   "id": "9fb180e8-91a8-43f2-bbd0-8ca771afed6f",
   "metadata": {},
   "outputs": [
    {
     "name": "stdout",
     "output_type": "stream",
     "text": [
      "获取第一列:\n",
      "a     2\n",
      "b     6\n",
      "c    10\n",
      "Name: C, dtype: int64\n"
     ]
    }
   ],
   "source": [
    "print('获取第三列:')\n",
    "print(data.iloc[:,2])"
   ]
  },
  {
   "cell_type": "code",
   "execution_count": 19,
   "id": "e400cd88-70ad-4b20-bd25-7acc6fa6731f",
   "metadata": {},
   "outputs": [
    {
     "name": "stdout",
     "output_type": "stream",
     "text": [
      "获取第AC两列:\n",
      "   A   C\n",
      "a  0   2\n",
      "b  4   6\n",
      "c  8  10\n"
     ]
    }
   ],
   "source": [
    "print('获取第AC两列:')\n",
    "print(data.iloc[:,[0,2]])"
   ]
  },
  {
   "cell_type": "code",
   "execution_count": 24,
   "id": "c725ba75-5398-4ee7-96ee-3ad2a2dc36d8",
   "metadata": {},
   "outputs": [
    {
     "name": "stdout",
     "output_type": "stream",
     "text": [
      "获取第一二两列:\n",
      "   A  B\n",
      "a  0  1\n",
      "b  4  5\n",
      "c  8  9\n"
     ]
    }
   ],
   "source": [
    "print('获取第一二两列:')\n",
    "print(data.iloc[:,0:2])"
   ]
  },
  {
   "cell_type": "code",
   "execution_count": 25,
   "id": "19523549-67b1-4d63-86e0-f4f07d930109",
   "metadata": {},
   "outputs": [],
   "source": [
    "#iloc后的括号中的逗号之前的部分表示要获取的行的位置。只输入一个冒号，不输入任何数值表示获取所有的行，\n",
    "#逗号之后的方括号表示要获取的列的位置，列的位置同样也是从0开始计数。"
   ]
  },
  {
   "cell_type": "code",
   "execution_count": 26,
   "id": "62c9de00-defd-4d80-9b3b-dedae37ff09a",
   "metadata": {},
   "outputs": [],
   "source": [
    "#选择某一行是用loc方法其中也是有索引和位置索引"
   ]
  },
  {
   "cell_type": "code",
   "execution_count": 29,
   "id": "917862e5-2536-4c44-ae0c-a022e6d79567",
   "metadata": {},
   "outputs": [
    {
     "name": "stdout",
     "output_type": "stream",
     "text": [
      "普通索引\n"
     ]
    },
    {
     "data": {
      "text/html": [
       "<div>\n",
       "<style scoped>\n",
       "    .dataframe tbody tr th:only-of-type {\n",
       "        vertical-align: middle;\n",
       "    }\n",
       "\n",
       "    .dataframe tbody tr th {\n",
       "        vertical-align: top;\n",
       "    }\n",
       "\n",
       "    .dataframe thead th {\n",
       "        text-align: right;\n",
       "    }\n",
       "</style>\n",
       "<table border=\"1\" class=\"dataframe\">\n",
       "  <thead>\n",
       "    <tr style=\"text-align: right;\">\n",
       "      <th></th>\n",
       "      <th>A</th>\n",
       "      <th>B</th>\n",
       "    </tr>\n",
       "  </thead>\n",
       "  <tbody>\n",
       "    <tr>\n",
       "      <th>a</th>\n",
       "      <td>0</td>\n",
       "      <td>1</td>\n",
       "    </tr>\n",
       "    <tr>\n",
       "      <th>b</th>\n",
       "      <td>4</td>\n",
       "      <td>5</td>\n",
       "    </tr>\n",
       "  </tbody>\n",
       "</table>\n",
       "</div>"
      ],
      "text/plain": [
       "   A  B\n",
       "a  0  1\n",
       "b  4  5"
      ]
     },
     "execution_count": 29,
     "metadata": {},
     "output_type": "execute_result"
    }
   ],
   "source": [
    "#行和列同时取\n",
    "print('普通索引')\n",
    "data.loc['a':'b','A':'B']"
   ]
  },
  {
   "cell_type": "code",
   "execution_count": 31,
   "id": "d0e0fd88-2914-4d4a-b854-858004c12adf",
   "metadata": {},
   "outputs": [
    {
     "name": "stdout",
     "output_type": "stream",
     "text": [
      "位置索引\n"
     ]
    },
    {
     "data": {
      "text/html": [
       "<div>\n",
       "<style scoped>\n",
       "    .dataframe tbody tr th:only-of-type {\n",
       "        vertical-align: middle;\n",
       "    }\n",
       "\n",
       "    .dataframe tbody tr th {\n",
       "        vertical-align: top;\n",
       "    }\n",
       "\n",
       "    .dataframe thead th {\n",
       "        text-align: right;\n",
       "    }\n",
       "</style>\n",
       "<table border=\"1\" class=\"dataframe\">\n",
       "  <thead>\n",
       "    <tr style=\"text-align: right;\">\n",
       "      <th></th>\n",
       "      <th>A</th>\n",
       "      <th>B</th>\n",
       "    </tr>\n",
       "  </thead>\n",
       "  <tbody>\n",
       "    <tr>\n",
       "      <th>a</th>\n",
       "      <td>0</td>\n",
       "      <td>1</td>\n",
       "    </tr>\n",
       "    <tr>\n",
       "      <th>b</th>\n",
       "      <td>4</td>\n",
       "      <td>5</td>\n",
       "    </tr>\n",
       "  </tbody>\n",
       "</table>\n",
       "</div>"
      ],
      "text/plain": [
       "   A  B\n",
       "a  0  1\n",
       "b  4  5"
      ]
     },
     "execution_count": 31,
     "metadata": {},
     "output_type": "execute_result"
    }
   ],
   "source": [
    "#获取部分列\n",
    "print('位置索引')\n",
    "data.iloc[0:2,0:2]"
   ]
  },
  {
   "cell_type": "code",
   "execution_count": 33,
   "id": "1d7f0a05-fe77-4372-a288-0e2a82945932",
   "metadata": {},
   "outputs": [
    {
     "data": {
      "text/html": [
       "<div>\n",
       "<style scoped>\n",
       "    .dataframe tbody tr th:only-of-type {\n",
       "        vertical-align: middle;\n",
       "    }\n",
       "\n",
       "    .dataframe tbody tr th {\n",
       "        vertical-align: top;\n",
       "    }\n",
       "\n",
       "    .dataframe thead th {\n",
       "        text-align: right;\n",
       "    }\n",
       "</style>\n",
       "<table border=\"1\" class=\"dataframe\">\n",
       "  <thead>\n",
       "    <tr style=\"text-align: right;\">\n",
       "      <th></th>\n",
       "      <th>A</th>\n",
       "      <th>C</th>\n",
       "    </tr>\n",
       "  </thead>\n",
       "  <tbody>\n",
       "    <tr>\n",
       "      <th>a</th>\n",
       "      <td>0</td>\n",
       "      <td>2</td>\n",
       "    </tr>\n",
       "    <tr>\n",
       "      <th>c</th>\n",
       "      <td>8</td>\n",
       "      <td>10</td>\n",
       "    </tr>\n",
       "  </tbody>\n",
       "</table>\n",
       "</div>"
      ],
      "text/plain": [
       "   A   C\n",
       "a  0   2\n",
       "c  8  10"
      ]
     },
     "execution_count": 33,
     "metadata": {},
     "output_type": "execute_result"
    }
   ],
   "source": [
    "#同时选择不连续的部分行和部分列\n",
    "data.loc[['a','c'],['A','C']]"
   ]
  },
  {
   "cell_type": "code",
   "execution_count": 36,
   "id": "2c268479-5343-435d-8fe8-b5adfa27b6ed",
   "metadata": {},
   "outputs": [
    {
     "data": {
      "text/html": [
       "<div>\n",
       "<style scoped>\n",
       "    .dataframe tbody tr th:only-of-type {\n",
       "        vertical-align: middle;\n",
       "    }\n",
       "\n",
       "    .dataframe tbody tr th {\n",
       "        vertical-align: top;\n",
       "    }\n",
       "\n",
       "    .dataframe thead th {\n",
       "        text-align: right;\n",
       "    }\n",
       "</style>\n",
       "<table border=\"1\" class=\"dataframe\">\n",
       "  <thead>\n",
       "    <tr style=\"text-align: right;\">\n",
       "      <th></th>\n",
       "      <th>B</th>\n",
       "      <th>C</th>\n",
       "    </tr>\n",
       "  </thead>\n",
       "  <tbody>\n",
       "    <tr>\n",
       "      <th>b</th>\n",
       "      <td>5</td>\n",
       "      <td>6</td>\n",
       "    </tr>\n",
       "    <tr>\n",
       "      <th>c</th>\n",
       "      <td>9</td>\n",
       "      <td>10</td>\n",
       "    </tr>\n",
       "  </tbody>\n",
       "</table>\n",
       "</div>"
      ],
      "text/plain": [
       "   B   C\n",
       "b  5   6\n",
       "c  9  10"
      ]
     },
     "execution_count": 36,
     "metadata": {},
     "output_type": "execute_result"
    }
   ],
   "source": [
    "data.iloc[[1,2],[1,2]]"
   ]
  },
  {
   "cell_type": "code",
   "execution_count": null,
   "id": "d8778404-8534-4f67-99d1-4f027712a1ee",
   "metadata": {},
   "outputs": [],
   "source": []
  }
 ],
 "metadata": {
  "kernelspec": {
   "display_name": "Python 3 (ipykernel)",
   "language": "python",
   "name": "python3"
  },
  "language_info": {
   "codemirror_mode": {
    "name": "ipython",
    "version": 3
   },
   "file_extension": ".py",
   "mimetype": "text/x-python",
   "name": "python",
   "nbconvert_exporter": "python",
   "pygments_lexer": "ipython3",
   "version": "3.12.3"
  }
 },
 "nbformat": 4,
 "nbformat_minor": 5
}
