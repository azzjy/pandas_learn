{
 "cells": [
  {
   "cell_type": "code",
   "execution_count": 1,
   "id": "caf71f42-341b-4eb4-b510-2782b6ea2a27",
   "metadata": {},
   "outputs": [],
   "source": [
    "import pandas as pd\n",
    "import numpy as np"
   ]
  },
  {
   "cell_type": "code",
   "execution_count": 7,
   "id": "b832a9b0-4598-4c21-bcbf-89f9a977bfc8",
   "metadata": {},
   "outputs": [
    {
     "data": {
      "text/plain": [
       "'根据key获取:'"
      ]
     },
     "metadata": {},
     "output_type": "display_data"
    },
    {
     "data": {
      "text/plain": [
       "4"
      ]
     },
     "metadata": {},
     "output_type": "display_data"
    },
    {
     "data": {
      "text/plain": [
       "'切片获取:'"
      ]
     },
     "metadata": {},
     "output_type": "display_data"
    },
    {
     "data": {
      "text/plain": [
       "a     4\n",
       "b     3\n",
       "c    25\n",
       "d     2\n",
       "dtype: int64"
      ]
     },
     "metadata": {},
     "output_type": "display_data"
    },
    {
     "name": "stderr",
     "output_type": "stream",
     "text": [
      "/var/folders/mg/vrqft_xs79n3pnr88gw1bh440000gn/T/ipykernel_32159/2729493760.py:4: FutureWarning: Series.__getitem__ treating keys as positions is deprecated. In a future version, integer keys will always be treated as labels (consistent with DataFrame behavior). To access a value by position, use `ser.iloc[pos]`\n",
      "  display('索引获取:',data[1])\n"
     ]
    },
    {
     "data": {
      "text/plain": [
       "'索引获取:'"
      ]
     },
     "metadata": {},
     "output_type": "display_data"
    },
    {
     "data": {
      "text/plain": [
       "3"
      ]
     },
     "metadata": {},
     "output_type": "display_data"
    },
    {
     "data": {
      "text/plain": [
       "'索引切片:'"
      ]
     },
     "metadata": {},
     "output_type": "display_data"
    },
    {
     "data": {
      "text/plain": [
       "b     3\n",
       "c    25\n",
       "dtype: int64"
      ]
     },
     "metadata": {},
     "output_type": "display_data"
    }
   ],
   "source": [
    "data = pd.Series([4,3,25,2,3],index=list('abcde'))\n",
    "display('根据key获取:',data['a'])\n",
    "display('切片获取:',data['a':'d'])\n",
    "display('索引获取:',data[1])\n",
    "display('索引切片:',data[1:3])"
   ]
  },
  {
   "cell_type": "code",
   "execution_count": 14,
   "id": "35ad9281-cb86-4469-8c4e-9bf14f655697",
   "metadata": {},
   "outputs": [
    {
     "data": {
      "text/plain": [
       "'loc标签索引:'"
      ]
     },
     "metadata": {},
     "output_type": "display_data"
    },
    {
     "data": {
      "text/plain": [
       "5"
      ]
     },
     "metadata": {},
     "output_type": "display_data"
    }
   ],
   "source": [
    "#当位置索引与标签索引有相同值1，这时候data[1]就不知道是按哪个来获取，此时要使用loc，iloc。其中loc表示的是标签索引，iloc表示的是位置索引。\n",
    "data = pd.Series([5,6,7,8],index=[1,2,3,4])\n",
    "display('loc标签索引:',data.loc[1])"
   ]
  },
  {
   "cell_type": "code",
   "execution_count": 15,
   "id": "e735187c-7596-49c1-b5a5-12460aad93d5",
   "metadata": {},
   "outputs": [
    {
     "data": {
      "text/plain": [
       "'iloc位置索引:'"
      ]
     },
     "metadata": {},
     "output_type": "display_data"
    },
    {
     "data": {
      "text/plain": [
       "7"
      ]
     },
     "metadata": {},
     "output_type": "display_data"
    }
   ],
   "source": [
    "display('iloc位置索引:',data.iloc[2])"
   ]
  },
  {
   "cell_type": "code",
   "execution_count": null,
   "id": "c9634677-2d49-4f99-88f0-726c0ec3d4bc",
   "metadata": {},
   "outputs": [],
   "source": []
  }
 ],
 "metadata": {
  "kernelspec": {
   "display_name": "Python 3 (ipykernel)",
   "language": "python",
   "name": "python3"
  },
  "language_info": {
   "codemirror_mode": {
    "name": "ipython",
    "version": 3
   },
   "file_extension": ".py",
   "mimetype": "text/x-python",
   "name": "python",
   "nbconvert_exporter": "python",
   "pygments_lexer": "ipython3",
   "version": "3.12.3"
  }
 },
 "nbformat": 4,
 "nbformat_minor": 5
}
