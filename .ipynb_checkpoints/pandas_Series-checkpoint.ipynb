{
 "cells": [
  {
   "cell_type": "code",
   "execution_count": 1,
   "id": "bca99f9c-edf6-45ad-8d6d-feab5809dc82",
   "metadata": {},
   "outputs": [
    {
     "data": {
      "text/plain": [
       "'\\nPandas 是基于 Numpy 的一套数据分析工具，该工具是为了解决数据分析任务而创建的。 \\nPandas 纳入了大量标准的数据模型，提供了高效地操作大型数据集所需的工具。\\nPandas 提 供了大量能使我们快速便捷地处理数据的函数和方法。\\n'"
      ]
     },
     "execution_count": 1,
     "metadata": {},
     "output_type": "execute_result"
    }
   ],
   "source": [
    "'''\n",
    "Pandas 是基于 Numpy 的一套数据分析工具，该工具是为了解决数据分析任务而创建的。 \n",
    "Pandas 纳入了大量标准的数据模型，提供了高效地操作大型数据集所需的工具。\n",
    "Pandas 提 供了大量能使我们快速便捷地处理数据的函数和方法。\n",
    "'''"
   ]
  },
  {
   "cell_type": "code",
   "execution_count": 2,
   "id": "a1342af7-d40d-4aef-a17b-4b4e6d444142",
   "metadata": {},
   "outputs": [],
   "source": [
    "import pandas as pd"
   ]
  },
  {
   "cell_type": "code",
   "execution_count": 6,
   "id": "d49b51d9-8eee-4d41-8a96-fd21958e0403",
   "metadata": {},
   "outputs": [
    {
     "data": {
      "text/plain": [
       "0    1\n",
       "1    2\n",
       "2    3\n",
       "3    4\n",
       "4    5\n",
       "dtype: int64"
      ]
     },
     "execution_count": 6,
     "metadata": {},
     "output_type": "execute_result"
    }
   ],
   "source": [
    "#Series对象包装的是numpy中的一维数组，实际上是将一个一维数组与一个索引名称捆绑在一起了。\n",
    "data = pd.Series([1,2,3,4,5])\n",
    "data"
   ]
  },
  {
   "cell_type": "code",
   "execution_count": 10,
   "id": "f23343e6-dc40-4b8a-b569-f1ab9c3466b8",
   "metadata": {},
   "outputs": [
    {
     "name": "stdout",
     "output_type": "stream",
     "text": [
      "<class 'numpy.ndarray'>\n"
     ]
    },
    {
     "data": {
      "text/plain": [
       "array([1, 2, 3, 4, 5])"
      ]
     },
     "execution_count": 10,
     "metadata": {},
     "output_type": "execute_result"
    }
   ],
   "source": [
    "#Series中有两个重要的属性values和index\n",
    "#data.values\n",
    "#data.idnex\n",
    "print(type(data.values)) \n",
    "data.values"
   ]
  },
  {
   "cell_type": "code",
   "execution_count": 11,
   "id": "f5586153-78c4-4d2d-a142-b6fb0e8c088f",
   "metadata": {},
   "outputs": [
    {
     "name": "stdout",
     "output_type": "stream",
     "text": [
      "<class 'pandas.core.indexes.range.RangeIndex'>\n"
     ]
    },
    {
     "data": {
      "text/plain": [
       "RangeIndex(start=0, stop=5, step=1)"
      ]
     },
     "execution_count": 11,
     "metadata": {},
     "output_type": "execute_result"
    }
   ],
   "source": [
    "print(type(data.index))\n",
    "data.index"
   ]
  },
  {
   "cell_type": "code",
   "execution_count": 15,
   "id": "26434254-9590-4bcb-b4db-8df24ab6c5b0",
   "metadata": {},
   "outputs": [
    {
     "data": {
      "text/plain": [
       "one      5\n",
       "tow      4\n",
       "three    6\n",
       "four     3\n",
       "five     1\n",
       "dtype: int64"
      ]
     },
     "execution_count": 15,
     "metadata": {},
     "output_type": "execute_result"
    }
   ],
   "source": [
    "#指定index\n",
    "data = pd.Series([5,4,6,3,1],index=['one','tow','three','four','five'])\n",
    "data"
   ]
  },
  {
   "cell_type": "code",
   "execution_count": 17,
   "id": "ffaa12a6-f6ef-42ed-ae14-e92c4c0ad9d5",
   "metadata": {},
   "outputs": [
    {
     "data": {
      "text/plain": [
       "a    5\n",
       "b    4\n",
       "c    6\n",
       "d    3\n",
       "e    1\n",
       "dtype: int64"
      ]
     },
     "execution_count": 17,
     "metadata": {},
     "output_type": "execute_result"
    }
   ],
   "source": [
    "data = pd.Series([5,4,6,3,1],index=list('abcde'))\n",
    "data"
   ]
  },
  {
   "cell_type": "code",
   "execution_count": 18,
   "id": "7d01c7d3-ab92-4afa-9545-e66d9d3a1072",
   "metadata": {},
   "outputs": [
    {
     "data": {
      "text/plain": [
       "bj    3000\n",
       "gz    1500\n",
       "sh    1200\n",
       "dtype: int64"
      ]
     },
     "execution_count": 18,
     "metadata": {},
     "output_type": "execute_result"
    }
   ],
   "source": [
    "#字典的key作为index字典的values作为值\n",
    "popul_dict = {'bj':3000,'gz':1500,'sh':1200}\n",
    "data = pd.Series(popul_dict)\n",
    "data"
   ]
  },
  {
   "cell_type": "code",
   "execution_count": 20,
   "id": "66dda4e0-e46b-4590-ada5-d1ca97b9c220",
   "metadata": {},
   "outputs": [
    {
     "data": {
      "text/plain": [
       "bj    3000\n",
       "sh    1200\n",
       "dtype: int64"
      ]
     },
     "execution_count": 20,
     "metadata": {},
     "output_type": "execute_result"
    }
   ],
   "source": [
    "#根据index取值如果存在则取交集，不存在则是NaN\n",
    "data = pd.Series(popul_dict,index=['bj','sh'])\n",
    "data"
   ]
  },
  {
   "cell_type": "code",
   "execution_count": 21,
   "id": "05a02be9-a593-4888-9c16-3318f141599f",
   "metadata": {},
   "outputs": [
    {
     "data": {
      "text/plain": [
       "js   NaN\n",
       "dtype: float64"
      ]
     },
     "execution_count": 21,
     "metadata": {},
     "output_type": "execute_result"
    }
   ],
   "source": [
    "data = pd.Series(popul_dict,index=['js'])\n",
    "data"
   ]
  },
  {
   "cell_type": "code",
   "execution_count": 23,
   "id": "08c43dad-d7c7-4a18-87d1-d512e36766a3",
   "metadata": {},
   "outputs": [
    {
     "data": {
      "text/plain": [
       "4    10\n",
       "3    10\n",
       "2    10\n",
       "5    10\n",
       "dtype: int64"
      ]
     },
     "execution_count": 23,
     "metadata": {},
     "output_type": "execute_result"
    }
   ],
   "source": [
    "#标量与index属性创建Series,如果value为一个index为多个则根据index创建固定值的数组\n",
    "data = pd.Series(10,index=[4,3,2,5])\n",
    "data"
   ]
  },
  {
   "cell_type": "code",
   "execution_count": null,
   "id": "68011c50-d781-43bc-abed-4bf93c20281d",
   "metadata": {},
   "outputs": [],
   "source": []
  }
 ],
 "metadata": {
  "kernelspec": {
   "display_name": "Python 3 (ipykernel)",
   "language": "python",
   "name": "python3"
  },
  "language_info": {
   "codemirror_mode": {
    "name": "ipython",
    "version": 3
   },
   "file_extension": ".py",
   "mimetype": "text/x-python",
   "name": "python",
   "nbconvert_exporter": "python",
   "pygments_lexer": "ipython3",
   "version": "3.12.3"
  }
 },
 "nbformat": 4,
 "nbformat_minor": 5
}
